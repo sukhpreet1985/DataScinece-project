{
 "cells": [
  {
   "cell_type": "markdown",
   "id": "5cf0f89a-9259-42b0-951a-ef7ec210b492",
   "metadata": {},
   "source": [
    "Data Science Tools and Ecosystem"
   ]
  },
  {
   "cell_type": "markdown",
   "id": "d23137d7-7179-470a-afb5-125a25e97cc8",
   "metadata": {},
   "source": [
    "In this notebook, Data Science Tools and Ecosystem are summarized."
   ]
  },
  {
   "cell_type": "markdown",
   "id": "7c34e942-3b87-40db-bd1a-57bb956f086c",
   "metadata": {},
   "source": [
    "Some of the popular languages that Data Scientists use are:"
   ]
  },
  {
   "cell_type": "markdown",
   "id": "cccdff85-aebc-4ba9-b56b-5aabd6574c11",
   "metadata": {},
   "source": [
    "Some of the commonly used libraries used by Data Scientists include:"
   ]
  },
  {
   "cell_type": "markdown",
   "id": "bcf1655b-a41a-4891-bb42-e783dd0d9a07",
   "metadata": {},
   "source": [
    " Data Science Tools"
   ]
  },
  {
   "cell_type": "markdown",
   "id": "46167c89-4303-4126-99c8-3f6d1693dc18",
   "metadata": {},
   "source": [
    "Below are a few examples of evaluating arithmetic expressions in Python"
   ]
  },
  {
   "cell_type": "code",
   "execution_count": null,
   "id": "fa24283d-c2d2-4dbd-bd92-b56d49cea6fd",
   "metadata": {},
   "outputs": [],
   "source": [
    "(3*4)+5 #This a simple arithmetic expression to mutiply then add integers"
   ]
  },
  {
   "cell_type": "code",
   "execution_count": null,
   "id": "69c2a81c-8a52-483d-962a-5286d57cc614",
   "metadata": {},
   "outputs": [],
   "source": [
    "200/60 #This will convert 200 minutes to hours by diving by 60."
   ]
  },
  {
   "cell_type": "code",
   "execution_count": null,
   "id": "bcebaad4-1aad-447f-b806-7b712768cde3",
   "metadata": {},
   "outputs": [],
   "source": []
  }
 ],
 "metadata": {
  "kernelspec": {
   "display_name": "Python 3 (ipykernel)",
   "language": "python",
   "name": "python3"
  },
  "language_info": {
   "codemirror_mode": {
    "name": "ipython",
    "version": 3
   },
   "file_extension": ".py",
   "mimetype": "text/x-python",
   "name": "python",
   "nbconvert_exporter": "python",
   "pygments_lexer": "ipython3",
   "version": "3.12.2"
  }
 },
 "nbformat": 4,
 "nbformat_minor": 5
}
